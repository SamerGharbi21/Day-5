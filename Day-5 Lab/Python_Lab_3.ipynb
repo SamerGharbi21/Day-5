{
 "cells": [
  {
   "cell_type": "markdown",
   "metadata": {},
   "source": [
    "# Python_Lab_3\n"
   ]
  },
  {
   "cell_type": "markdown",
   "metadata": {},
   "source": [
    "### Task 1\n",
    "- Write a function named **'create_student_records'** that takes a list of tuples. Each tuple contains a student's name and their scores in three subjects. The function should return a list of dictionaries, where each dictionary represents a student with keys: name, subject1, subject2, subject3. Use list comprehension to create the list of dictionaries."
   ]
  },
  {
   "cell_type": "code",
   "execution_count": 208,
   "metadata": {},
   "outputs": [
    {
     "name": "stdout",
     "output_type": "stream",
     "text": [
      "[{'name': 'Majid', 'subject1': 30, 'subject2': 30, 'subject3': 30}, {'name': 'Saud', 'subject1': 90, 'subject2': 80, 'subject3': 100}, {'name': 'aoues', 'subject1': 100, 'subject2': 90, 'subject3': 98}]\n"
     ]
    }
   ],
   "source": [
    "def create_student_records(lst):\n",
    "    \n",
    "    keys = [\"name\", \"subject1\", \"subject2\", \"subject3\"]\n",
    "    return  [dict(zip(keys, value)) for value in lst]\n",
    "\n",
    "\n",
    "lst = [(\"Majid\" , 30 , 30 , 30) , (\"Saud\" , 90 , 80 , 100) , (\"aoues\" , 100 , 90 , 98)]\n",
    "x = create_student_records(lst)\n",
    "print(x)"
   ]
  },
  {
   "cell_type": "markdown",
   "metadata": {},
   "source": [
    "### Task 2\n",
    "- Write a function named **'filter_and_sort_students'** that takes the list of dictionaries from Question 1 and returns a sorted list of student names who have an average score of 80 or more across all subjects. Sort the names in alphabetical order."
   ]
  },
  {
   "cell_type": "code",
   "execution_count": 214,
   "metadata": {},
   "outputs": [
    {
     "name": "stdout",
     "output_type": "stream",
     "text": [
      "[{'name': 'Saud', 'subject1': 90, 'subject2': 80, 'subject3': 100}, {'name': 'aoues', 'subject1': 100, 'subject2': 90, 'subject3': 98}]\n"
     ]
    }
   ],
   "source": [
    "lst = []\n",
    "\n",
    "def filter_and_sort_students():\n",
    "    for score in x:\n",
    "        res = 0 \n",
    "        end = 0\n",
    "        for key, value in score.items():\n",
    "            if key != 'name':\n",
    "                res += value\n",
    "                end += 1\n",
    "        if end == 3 and res / 3 >= 80:\n",
    "            lst.append(score)\n",
    "    print(lst)\n",
    "\n",
    "filter_and_sort_students()"
   ]
  },
  {
   "cell_type": "markdown",
   "metadata": {},
   "source": [
    "### Task 3\n",
    "- Write a function named **'get_product_info'** that prompts the user to enter information about a product. The function should ask for the product name, product price, and product quantity. If the user enters an invalid input (e.g., a non-numeric value for the price or quantity), the function should handle the error and prompt the user to enter the value again. Return a dictionary containing the product information."
   ]
  },
  {
   "cell_type": "code",
   "execution_count": 150,
   "metadata": {},
   "outputs": [
    {
     "name": "stdin",
     "output_type": "stream",
     "text": [
      "Enter product name:  Pizza\n",
      "Enter product price:  10\n",
      "Enter product quantity:  1\n"
     ]
    },
    {
     "name": "stdout",
     "output_type": "stream",
     "text": [
      "{'productName': 'Pizza', 'productPrice': 10, 'productQuantity': 1}\n"
     ]
    }
   ],
   "source": [
    "def get_product_info(): \n",
    "    name = input(\"Enter product name: \")\n",
    "    \n",
    "    try:\n",
    "        price = int(input(\"Enter product price: \"))\n",
    "    except ValueError:\n",
    "        print(\"Invalied price.\")\n",
    "        \n",
    "    else:\n",
    "        try:\n",
    "            quant = int(input(\"Enter product quantity: \"))\n",
    "        except ValueError:\n",
    "            print(\"Invalied quantity.\")\n",
    "            \n",
    "        else:\n",
    "            Dict = {\n",
    "                \"productName\": name,\n",
    "                \"productPrice\": price,\n",
    "                \"productQuantity\": quant\n",
    "            }\n",
    "    \n",
    "            return Dict \n",
    "\n",
    "print(get_product_info())"
   ]
  },
  {
   "cell_type": "markdown",
   "metadata": {},
   "source": [
    "### Task 4\n",
    "- Write a function named **'get_even_numbers'** that takes a list of integers and returns a list of even numbers using list comprehension."
   ]
  },
  {
   "cell_type": "code",
   "execution_count": 184,
   "metadata": {},
   "outputs": [
    {
     "name": "stdout",
     "output_type": "stream",
     "text": [
      "[2, 4, 6, 8, 10]\n"
     ]
    }
   ],
   "source": [
    "def get_even_numbers():\n",
    "    \n",
    "    lst = [x for x in range(1 , 11)]\n",
    "    evenLst = [x for x in lst if x % 2 == 0]\n",
    "\n",
    "    return evenLst\n",
    "\n",
    "print(get_even_numbers())"
   ]
  },
  {
   "cell_type": "markdown",
   "metadata": {},
   "source": [
    "### Task 5\n",
    "- Write a function named **'pair_elements'** that takes two lists of equal length as parameters and returns a list of tuples, where each tuple contains corresponding elements from the two lists. Use the zip function to achieve this."
   ]
  },
  {
   "cell_type": "code",
   "execution_count": 1,
   "metadata": {},
   "outputs": [
    {
     "data": {
      "text/plain": [
       "([1, 11],\n",
       " [2, 12],\n",
       " [3, 13],\n",
       " [4, 14],\n",
       " [5, 15],\n",
       " [6, 16],\n",
       " [7, 17],\n",
       " [8, 18],\n",
       " [9, 19],\n",
       " [10, 20])"
      ]
     },
     "execution_count": 1,
     "metadata": {},
     "output_type": "execute_result"
    }
   ],
   "source": [
    "def pair_elements(lst1 , lst2):\n",
    "    lst = [list(x) for x in zip(lst1 , lst2)]\n",
    "    return tuple(lst)\n",
    "\n",
    "lst1 = [x for x in range(1 , 11)]\n",
    "lst2 = [x for x in range(11 , 21)]\n",
    "    \n",
    "pair_elements(lst1 , lst2)"
   ]
  },
  {
   "cell_type": "markdown",
   "metadata": {},
   "source": [
    "### Task 6\n",
    "- Write a function named **'square_dict_lambda'** that takes a list of integers and returns a dictionary where the keys are the integers and the values are their squares. Use a lambda function within a dictionary comprehension to achieve this."
   ]
  },
  {
   "cell_type": "code",
   "execution_count": 7,
   "metadata": {},
   "outputs": [
    {
     "name": "stdout",
     "output_type": "stream",
     "text": [
      "{1: 1, 2: 4, 3: 9, 4: 16, 5: 25, 6: 36, 7: 49, 8: 64, 9: 81, 10: 100}\n"
     ]
    }
   ],
   "source": [
    "def square_dict_lambda(lst):\n",
    "    Dict = {x :(lambda x : x**2)(x) for x in lst}\n",
    "    return Dict \n",
    "\n",
    "lst = [x for x in range(1,11)]\n",
    "\n",
    "print(square_dict_lambda(lst))"
   ]
  },
  {
   "cell_type": "code",
   "execution_count": null,
   "metadata": {},
   "outputs": [],
   "source": []
  }
 ],
 "metadata": {
  "kernelspec": {
   "display_name": "Python 3 (ipykernel)",
   "language": "python",
   "name": "python3"
  },
  "language_info": {
   "codemirror_mode": {
    "name": "ipython",
    "version": 3
   },
   "file_extension": ".py",
   "mimetype": "text/x-python",
   "name": "python",
   "nbconvert_exporter": "python",
   "pygments_lexer": "ipython3",
   "version": "3.12.4"
  }
 },
 "nbformat": 4,
 "nbformat_minor": 4
}
